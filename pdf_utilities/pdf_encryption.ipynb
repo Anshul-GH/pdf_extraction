{
 "cells": [
  {
   "cell_type": "markdown",
   "metadata": {},
   "source": [
    "## Working Code to Encrypt PDF (as of 13-Sep-2023)"
   ]
  },
  {
   "cell_type": "markdown",
   "metadata": {},
   "source": [
    "#### Reference: https://thepythoncode.com/article/encrypt-pdf-files-in-python"
   ]
  },
  {
   "cell_type": "code",
   "execution_count": 5,
   "metadata": {},
   "outputs": [],
   "source": [
    "# !pip install PyPDF4==1.27.0 pyAesCrypt==6.0.0"
   ]
  },
  {
   "cell_type": "code",
   "execution_count": 6,
   "metadata": {},
   "outputs": [],
   "source": [
    "from PyPDF4 import PdfFileReader, PdfFileWriter, utils\n",
    "import os\n",
    "import argparse\n",
    "import getpass\n",
    "from io import BytesIO\n",
    "import pyAesCrypt"
   ]
  },
  {
   "cell_type": "code",
   "execution_count": 7,
   "metadata": {},
   "outputs": [],
   "source": [
    "def encrypt_pdf(input_file: str, password: str):\n",
    "    \"\"\"\n",
    "    Encrypts a file using PyPDF4 library.\n",
    "    Precondition: File is not encrypted.\n",
    "    \"\"\"\n",
    "    pdf_writer = PdfFileWriter()\n",
    "    pdf_reader = PdfFileReader(open(input_file, 'rb'), strict=False)\n",
    "    if pdf_reader.isEncrypted:\n",
    "        print(f\"PDF File {input_file} already encrypted\")\n",
    "        return False, None, None\n",
    "    try:\n",
    "        # To encrypt all the pages of the input file, you need to loop over all of them\n",
    "        # and to add them to the writer.\n",
    "        for page_number in range(pdf_reader.numPages):\n",
    "            pdf_writer.addPage(pdf_reader.getPage(page_number))\n",
    "    except utils.PdfReadError as e:\n",
    "        print(f\"Error reading PDF File {input_file} = {e}\")\n",
    "        return False, None, None\n",
    "    # The default is 128 bit encryption (if false then 40 bit encryption).\n",
    "    pdf_writer.encrypt(user_pwd=password, owner_pwd=None, use_128bit=True)\n",
    "    return True, pdf_reader, pdf_writer"
   ]
  },
  {
   "cell_type": "code",
   "execution_count": 8,
   "metadata": {},
   "outputs": [],
   "source": [
    "file_path = r\"D:\\Anshul\\Documents\\SSN\\SSN_Card_AnshulJain.pdf\"\n",
    "password='5127700454'"
   ]
  },
  {
   "cell_type": "code",
   "execution_count": 9,
   "metadata": {},
   "outputs": [],
   "source": [
    "status, pdf_reader, pdf_writer = encrypt_pdf(file_path, password)"
   ]
  },
  {
   "cell_type": "code",
   "execution_count": 13,
   "metadata": {},
   "outputs": [],
   "source": [
    "file_path_out = file_path.split(\".\")\n",
    "file_path_out = file_path_out[0]+\"_encrypted.\"+file_path_out[-1]\n",
    "\n",
    "with open(file_path_out, 'wb') as f:\n",
    "    pdf_writer.write(f)"
   ]
  }
 ],
 "metadata": {
  "kernelspec": {
   "display_name": ".venv",
   "language": "python",
   "name": "python3"
  },
  "language_info": {
   "codemirror_mode": {
    "name": "ipython",
    "version": 3
   },
   "file_extension": ".py",
   "mimetype": "text/x-python",
   "name": "python",
   "nbconvert_exporter": "python",
   "pygments_lexer": "ipython3",
   "version": "3.11.5"
  },
  "orig_nbformat": 4
 },
 "nbformat": 4,
 "nbformat_minor": 2
}
