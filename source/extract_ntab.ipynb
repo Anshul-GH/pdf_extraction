{
 "metadata": {
  "language_info": {
   "codemirror_mode": {
    "name": "ipython",
    "version": 3
   },
   "file_extension": ".py",
   "mimetype": "text/x-python",
   "name": "python",
   "nbconvert_exporter": "python",
   "pygments_lexer": "ipython3",
   "version": "3.8.5-final"
  },
  "orig_nbformat": 2,
  "kernelspec": {
   "name": "python38564bitanaconda3virtualenv7335095407f3422396fe048c4f6b269d",
   "display_name": "Python 3.8.5 64-bit ('anaconda3': virtualenv)",
   "language": "python"
  }
 },
 "nbformat": 4,
 "nbformat_minor": 2,
 "cells": [
  {
   "cell_type": "code",
   "execution_count": 12,
   "metadata": {},
   "outputs": [],
   "source": [
    "from camelot import read_pdf as camelot_read_pdf"
   ]
  },
  {
   "cell_type": "code",
   "execution_count": 13,
   "metadata": {},
   "outputs": [],
   "source": [
    "pdf_file = '../data/public_domain_formularies/1tab_3col_ntab.pdf'"
   ]
  },
  {
   "cell_type": "code",
   "execution_count": 18,
   "metadata": {},
   "outputs": [],
   "source": [
    "tables = camelot_read_pdf(pdf_file, pages='12', flavor='stream')"
   ]
  },
  {
   "cell_type": "code",
   "execution_count": 19,
   "metadata": {},
   "outputs": [
    {
     "output_type": "execute_result",
     "data": {
      "text/plain": [
       "<TableList n=1>"
      ]
     },
     "metadata": {},
     "execution_count": 19
    }
   ],
   "source": [
    "tables"
   ]
  },
  {
   "cell_type": "code",
   "execution_count": 20,
   "metadata": {},
   "outputs": [
    {
     "output_type": "execute_result",
     "data": {
      "text/plain": [
       "<Table shape=(41, 3)>"
      ]
     },
     "metadata": {},
     "execution_count": 20
    }
   ],
   "source": [
    "tables[0]"
   ]
  },
  {
   "cell_type": "code",
   "execution_count": 21,
   "metadata": {},
   "outputs": [
    {
     "output_type": "execute_result",
     "data": {
      "text/plain": [
       "                                                0       1                     2\n",
       "0                          PRESCRIPTION DRUG NAME    DRUG              COVERAGE\n",
       "1                                                    TIER      REQUIREMENTS AND\n",
       "2                                                                        LIMITS\n",
       "3   d\\ni\\nc\\nl\\nofenac sodium tab delayed release  TIER 1                      \n",
       "4                                           50 mg                              \n",
       "5   d\\ni\\nc\\nl\\nofenac sodium tab delayed release  TIER 1                      \n",
       "6                                           75 mg                              \n",
       "7    d\\ni\\nc\\nl\\nofenac sodium tab er 24hr 100 mg  TIER 1                      \n",
       "8                          (DICLOFENAC SODIUM ER)                              \n",
       "9   d\\ni\\nc\\nl\\nofenac w/ misoprostol tab delayed  TIER 1                      \n",
       "10                 release 50-0.2 mg (DICLOFENAC-                              \n",
       "11                                   MISOPROSTOL)                              \n",
       "12  d\\ni\\nc\\nl\\nofenac w/ misoprostol tab delayed  TIER 1                      \n",
       "13                 release 75-0.2 mg (DICLOFENAC-                              \n",
       "14                                   MISOPROSTOL)                              \n",
       "15                  d\\ni\\nf\\nl\\nunisal tab 500 mg  TIER 1                      \n",
       "16        DISALCID (salsalate) 500 MG TAB, 750 MG  TIER 3                      \n",
       "17                                            TAB                              \n",
       "18         DUEXIS (ibuprofen-famotidine) 800-26.6  TIER 4  PA, QLC (3 tabs/day)\n",
       "19                                         MG TAB                              \n",
       "20               EC-NAPROSYN (naproxen) EC-375 MG  TIER 3                      \n",
       "21                       TAB DR, EC-500 MG TAB DR                              \n",
       "22                            etodolac cap 200 mg  TIER 1                      \n",
       "23                            etodolac cap 300 mg  TIER 1                      \n",
       "24                            etodolac tab 400 mg  TIER 1                      \n",
       "25                            etodolac tab 500 mg  TIER 1                      \n",
       "26          etodolac tab er 24hr 400 mg (ETODOLAC  TIER 1                      \n",
       "27                                            ER)                              \n",
       "28          etodolac tab er 24hr 500 mg (ETODOLAC  TIER 1                      \n",
       "29                                            ER)                              \n",
       "30          etodolac tab er 24hr 600 mg (ETODOLAC  TIER 1                      \n",
       "31                                            ER)                              \n",
       "32           FELDENE (piroxicam) 10 MG CAP, 20 MG  TIER 3                      \n",
       "33                                            CAP                              \n",
       "34                  FENOPROFEN CALCIUM 200 MG CAP  TIER 4  PA, QLC (8 caps/day)\n",
       "35                  FENOPROFEN CALCIUM 400 MG CAP  TIER 3  PA, QLC (8 caps/day)\n",
       "36                  fenoprofen calcium tab 600 mg  TIER 3  PA, QLC (4 tabs/day)\n",
       "37                  fenoprofen calcium tab 600 mg  TIER 3  PA, QLC (4 tabs/day)\n",
       "38                                      (PROFENO)                              \n",
       "39           FENORTHO (fenoprofen calcium) 200 MG  TIER 4  PA, QLC (8 caps/day)\n",
       "40                                            CAP                              "
      ],
      "text/html": "<div>\n<style scoped>\n    .dataframe tbody tr th:only-of-type {\n        vertical-align: middle;\n    }\n\n    .dataframe tbody tr th {\n        vertical-align: top;\n    }\n\n    .dataframe thead th {\n        text-align: right;\n    }\n</style>\n<table border=\"1\" class=\"dataframe\">\n  <thead>\n    <tr style=\"text-align: right;\">\n      <th></th>\n      <th>0</th>\n      <th>1</th>\n      <th>2</th>\n    </tr>\n  </thead>\n  <tbody>\n    <tr>\n      <th>0</th>\n      <td>PRESCRIPTION DRUG NAME</td>\n      <td>DRUG</td>\n      <td>COVERAGE</td>\n    </tr>\n    <tr>\n      <th>1</th>\n      <td></td>\n      <td>TIER</td>\n      <td>REQUIREMENTS AND</td>\n    </tr>\n    <tr>\n      <th>2</th>\n      <td></td>\n      <td></td>\n      <td>LIMITS</td>\n    </tr>\n    <tr>\n      <th>3</th>\n      <td>d\\ni\\nc\\nl\\nofenac sodium tab delayed release</td>\n      <td>TIER 1</td>\n      <td></td>\n    </tr>\n    <tr>\n      <th>4</th>\n      <td>50 mg</td>\n      <td></td>\n      <td></td>\n    </tr>\n    <tr>\n      <th>5</th>\n      <td>d\\ni\\nc\\nl\\nofenac sodium tab delayed release</td>\n      <td>TIER 1</td>\n      <td></td>\n    </tr>\n    <tr>\n      <th>6</th>\n      <td>75 mg</td>\n      <td></td>\n      <td></td>\n    </tr>\n    <tr>\n      <th>7</th>\n      <td>d\\ni\\nc\\nl\\nofenac sodium tab er 24hr 100 mg</td>\n      <td>TIER 1</td>\n      <td></td>\n    </tr>\n    <tr>\n      <th>8</th>\n      <td>(DICLOFENAC SODIUM ER)</td>\n      <td></td>\n      <td></td>\n    </tr>\n    <tr>\n      <th>9</th>\n      <td>d\\ni\\nc\\nl\\nofenac w/ misoprostol tab delayed</td>\n      <td>TIER 1</td>\n      <td></td>\n    </tr>\n    <tr>\n      <th>10</th>\n      <td>release 50-0.2 mg (DICLOFENAC-</td>\n      <td></td>\n      <td></td>\n    </tr>\n    <tr>\n      <th>11</th>\n      <td>MISOPROSTOL)</td>\n      <td></td>\n      <td></td>\n    </tr>\n    <tr>\n      <th>12</th>\n      <td>d\\ni\\nc\\nl\\nofenac w/ misoprostol tab delayed</td>\n      <td>TIER 1</td>\n      <td></td>\n    </tr>\n    <tr>\n      <th>13</th>\n      <td>release 75-0.2 mg (DICLOFENAC-</td>\n      <td></td>\n      <td></td>\n    </tr>\n    <tr>\n      <th>14</th>\n      <td>MISOPROSTOL)</td>\n      <td></td>\n      <td></td>\n    </tr>\n    <tr>\n      <th>15</th>\n      <td>d\\ni\\nf\\nl\\nunisal tab 500 mg</td>\n      <td>TIER 1</td>\n      <td></td>\n    </tr>\n    <tr>\n      <th>16</th>\n      <td>DISALCID (salsalate) 500 MG TAB, 750 MG</td>\n      <td>TIER 3</td>\n      <td></td>\n    </tr>\n    <tr>\n      <th>17</th>\n      <td>TAB</td>\n      <td></td>\n      <td></td>\n    </tr>\n    <tr>\n      <th>18</th>\n      <td>DUEXIS (ibuprofen-famotidine) 800-26.6</td>\n      <td>TIER 4</td>\n      <td>PA, QLC (3 tabs/day)</td>\n    </tr>\n    <tr>\n      <th>19</th>\n      <td>MG TAB</td>\n      <td></td>\n      <td></td>\n    </tr>\n    <tr>\n      <th>20</th>\n      <td>EC-NAPROSYN (naproxen) EC-375 MG</td>\n      <td>TIER 3</td>\n      <td></td>\n    </tr>\n    <tr>\n      <th>21</th>\n      <td>TAB DR, EC-500 MG TAB DR</td>\n      <td></td>\n      <td></td>\n    </tr>\n    <tr>\n      <th>22</th>\n      <td>etodolac cap 200 mg</td>\n      <td>TIER 1</td>\n      <td></td>\n    </tr>\n    <tr>\n      <th>23</th>\n      <td>etodolac cap 300 mg</td>\n      <td>TIER 1</td>\n      <td></td>\n    </tr>\n    <tr>\n      <th>24</th>\n      <td>etodolac tab 400 mg</td>\n      <td>TIER 1</td>\n      <td></td>\n    </tr>\n    <tr>\n      <th>25</th>\n      <td>etodolac tab 500 mg</td>\n      <td>TIER 1</td>\n      <td></td>\n    </tr>\n    <tr>\n      <th>26</th>\n      <td>etodolac tab er 24hr 400 mg (ETODOLAC</td>\n      <td>TIER 1</td>\n      <td></td>\n    </tr>\n    <tr>\n      <th>27</th>\n      <td>ER)</td>\n      <td></td>\n      <td></td>\n    </tr>\n    <tr>\n      <th>28</th>\n      <td>etodolac tab er 24hr 500 mg (ETODOLAC</td>\n      <td>TIER 1</td>\n      <td></td>\n    </tr>\n    <tr>\n      <th>29</th>\n      <td>ER)</td>\n      <td></td>\n      <td></td>\n    </tr>\n    <tr>\n      <th>30</th>\n      <td>etodolac tab er 24hr 600 mg (ETODOLAC</td>\n      <td>TIER 1</td>\n      <td></td>\n    </tr>\n    <tr>\n      <th>31</th>\n      <td>ER)</td>\n      <td></td>\n      <td></td>\n    </tr>\n    <tr>\n      <th>32</th>\n      <td>FELDENE (piroxicam) 10 MG CAP, 20 MG</td>\n      <td>TIER 3</td>\n      <td></td>\n    </tr>\n    <tr>\n      <th>33</th>\n      <td>CAP</td>\n      <td></td>\n      <td></td>\n    </tr>\n    <tr>\n      <th>34</th>\n      <td>FENOPROFEN CALCIUM 200 MG CAP</td>\n      <td>TIER 4</td>\n      <td>PA, QLC (8 caps/day)</td>\n    </tr>\n    <tr>\n      <th>35</th>\n      <td>FENOPROFEN CALCIUM 400 MG CAP</td>\n      <td>TIER 3</td>\n      <td>PA, QLC (8 caps/day)</td>\n    </tr>\n    <tr>\n      <th>36</th>\n      <td>fenoprofen calcium tab 600 mg</td>\n      <td>TIER 3</td>\n      <td>PA, QLC (4 tabs/day)</td>\n    </tr>\n    <tr>\n      <th>37</th>\n      <td>fenoprofen calcium tab 600 mg</td>\n      <td>TIER 3</td>\n      <td>PA, QLC (4 tabs/day)</td>\n    </tr>\n    <tr>\n      <th>38</th>\n      <td>(PROFENO)</td>\n      <td></td>\n      <td></td>\n    </tr>\n    <tr>\n      <th>39</th>\n      <td>FENORTHO (fenoprofen calcium) 200 MG</td>\n      <td>TIER 4</td>\n      <td>PA, QLC (8 caps/day)</td>\n    </tr>\n    <tr>\n      <th>40</th>\n      <td>CAP</td>\n      <td></td>\n      <td></td>\n    </tr>\n  </tbody>\n</table>\n</div>"
     },
     "metadata": {},
     "execution_count": 21
    }
   ],
   "source": [
    "tables[0].df"
   ]
  },
  {
   "cell_type": "code",
   "execution_count": 22,
   "metadata": {},
   "outputs": [],
   "source": [
    "tables = camelot_read_pdf(pdf_file, pages='12,13,14', flavor='stream')"
   ]
  },
  {
   "cell_type": "code",
   "execution_count": 23,
   "metadata": {},
   "outputs": [
    {
     "output_type": "execute_result",
     "data": {
      "text/plain": [
       "<TableList n=3>"
      ]
     },
     "metadata": {},
     "execution_count": 23
    }
   ],
   "source": [
    "tables"
   ]
  },
  {
   "cell_type": "code",
   "execution_count": 27,
   "metadata": {},
   "outputs": [
    {
     "output_type": "execute_result",
     "data": {
      "text/plain": [
       "                                                0       1                     2\n",
       "0                          PRESCRIPTION DRUG NAME    DRUG              COVERAGE\n",
       "1                                                    TIER      REQUIREMENTS AND\n",
       "2                                                                        LIMITS\n",
       "3   d\\ni\\nc\\nl\\nofenac sodium tab delayed release  TIER 1                      \n",
       "4                                           50 mg                              \n",
       "5   d\\ni\\nc\\nl\\nofenac sodium tab delayed release  TIER 1                      \n",
       "6                                           75 mg                              \n",
       "7    d\\ni\\nc\\nl\\nofenac sodium tab er 24hr 100 mg  TIER 1                      \n",
       "8                          (DICLOFENAC SODIUM ER)                              \n",
       "9   d\\ni\\nc\\nl\\nofenac w/ misoprostol tab delayed  TIER 1                      \n",
       "10                 release 50-0.2 mg (DICLOFENAC-                              \n",
       "11                                   MISOPROSTOL)                              \n",
       "12  d\\ni\\nc\\nl\\nofenac w/ misoprostol tab delayed  TIER 1                      \n",
       "13                 release 75-0.2 mg (DICLOFENAC-                              \n",
       "14                                   MISOPROSTOL)                              \n",
       "15                  d\\ni\\nf\\nl\\nunisal tab 500 mg  TIER 1                      \n",
       "16        DISALCID (salsalate) 500 MG TAB, 750 MG  TIER 3                      \n",
       "17                                            TAB                              \n",
       "18         DUEXIS (ibuprofen-famotidine) 800-26.6  TIER 4  PA, QLC (3 tabs/day)\n",
       "19                                         MG TAB                              \n",
       "20               EC-NAPROSYN (naproxen) EC-375 MG  TIER 3                      \n",
       "21                       TAB DR, EC-500 MG TAB DR                              \n",
       "22                            etodolac cap 200 mg  TIER 1                      \n",
       "23                            etodolac cap 300 mg  TIER 1                      \n",
       "24                            etodolac tab 400 mg  TIER 1                      \n",
       "25                            etodolac tab 500 mg  TIER 1                      \n",
       "26          etodolac tab er 24hr 400 mg (ETODOLAC  TIER 1                      \n",
       "27                                            ER)                              \n",
       "28          etodolac tab er 24hr 500 mg (ETODOLAC  TIER 1                      \n",
       "29                                            ER)                              \n",
       "30          etodolac tab er 24hr 600 mg (ETODOLAC  TIER 1                      \n",
       "31                                            ER)                              \n",
       "32           FELDENE (piroxicam) 10 MG CAP, 20 MG  TIER 3                      \n",
       "33                                            CAP                              \n",
       "34                  FENOPROFEN CALCIUM 200 MG CAP  TIER 4  PA, QLC (8 caps/day)\n",
       "35                  FENOPROFEN CALCIUM 400 MG CAP  TIER 3  PA, QLC (8 caps/day)\n",
       "36                  fenoprofen calcium tab 600 mg  TIER 3  PA, QLC (4 tabs/day)\n",
       "37                  fenoprofen calcium tab 600 mg  TIER 3  PA, QLC (4 tabs/day)\n",
       "38                                      (PROFENO)                              \n",
       "39           FENORTHO (fenoprofen calcium) 200 MG  TIER 4  PA, QLC (8 caps/day)\n",
       "40                                            CAP                              "
      ],
      "text/html": "<div>\n<style scoped>\n    .dataframe tbody tr th:only-of-type {\n        vertical-align: middle;\n    }\n\n    .dataframe tbody tr th {\n        vertical-align: top;\n    }\n\n    .dataframe thead th {\n        text-align: right;\n    }\n</style>\n<table border=\"1\" class=\"dataframe\">\n  <thead>\n    <tr style=\"text-align: right;\">\n      <th></th>\n      <th>0</th>\n      <th>1</th>\n      <th>2</th>\n    </tr>\n  </thead>\n  <tbody>\n    <tr>\n      <th>0</th>\n      <td>PRESCRIPTION DRUG NAME</td>\n      <td>DRUG</td>\n      <td>COVERAGE</td>\n    </tr>\n    <tr>\n      <th>1</th>\n      <td></td>\n      <td>TIER</td>\n      <td>REQUIREMENTS AND</td>\n    </tr>\n    <tr>\n      <th>2</th>\n      <td></td>\n      <td></td>\n      <td>LIMITS</td>\n    </tr>\n    <tr>\n      <th>3</th>\n      <td>d\\ni\\nc\\nl\\nofenac sodium tab delayed release</td>\n      <td>TIER 1</td>\n      <td></td>\n    </tr>\n    <tr>\n      <th>4</th>\n      <td>50 mg</td>\n      <td></td>\n      <td></td>\n    </tr>\n    <tr>\n      <th>5</th>\n      <td>d\\ni\\nc\\nl\\nofenac sodium tab delayed release</td>\n      <td>TIER 1</td>\n      <td></td>\n    </tr>\n    <tr>\n      <th>6</th>\n      <td>75 mg</td>\n      <td></td>\n      <td></td>\n    </tr>\n    <tr>\n      <th>7</th>\n      <td>d\\ni\\nc\\nl\\nofenac sodium tab er 24hr 100 mg</td>\n      <td>TIER 1</td>\n      <td></td>\n    </tr>\n    <tr>\n      <th>8</th>\n      <td>(DICLOFENAC SODIUM ER)</td>\n      <td></td>\n      <td></td>\n    </tr>\n    <tr>\n      <th>9</th>\n      <td>d\\ni\\nc\\nl\\nofenac w/ misoprostol tab delayed</td>\n      <td>TIER 1</td>\n      <td></td>\n    </tr>\n    <tr>\n      <th>10</th>\n      <td>release 50-0.2 mg (DICLOFENAC-</td>\n      <td></td>\n      <td></td>\n    </tr>\n    <tr>\n      <th>11</th>\n      <td>MISOPROSTOL)</td>\n      <td></td>\n      <td></td>\n    </tr>\n    <tr>\n      <th>12</th>\n      <td>d\\ni\\nc\\nl\\nofenac w/ misoprostol tab delayed</td>\n      <td>TIER 1</td>\n      <td></td>\n    </tr>\n    <tr>\n      <th>13</th>\n      <td>release 75-0.2 mg (DICLOFENAC-</td>\n      <td></td>\n      <td></td>\n    </tr>\n    <tr>\n      <th>14</th>\n      <td>MISOPROSTOL)</td>\n      <td></td>\n      <td></td>\n    </tr>\n    <tr>\n      <th>15</th>\n      <td>d\\ni\\nf\\nl\\nunisal tab 500 mg</td>\n      <td>TIER 1</td>\n      <td></td>\n    </tr>\n    <tr>\n      <th>16</th>\n      <td>DISALCID (salsalate) 500 MG TAB, 750 MG</td>\n      <td>TIER 3</td>\n      <td></td>\n    </tr>\n    <tr>\n      <th>17</th>\n      <td>TAB</td>\n      <td></td>\n      <td></td>\n    </tr>\n    <tr>\n      <th>18</th>\n      <td>DUEXIS (ibuprofen-famotidine) 800-26.6</td>\n      <td>TIER 4</td>\n      <td>PA, QLC (3 tabs/day)</td>\n    </tr>\n    <tr>\n      <th>19</th>\n      <td>MG TAB</td>\n      <td></td>\n      <td></td>\n    </tr>\n    <tr>\n      <th>20</th>\n      <td>EC-NAPROSYN (naproxen) EC-375 MG</td>\n      <td>TIER 3</td>\n      <td></td>\n    </tr>\n    <tr>\n      <th>21</th>\n      <td>TAB DR, EC-500 MG TAB DR</td>\n      <td></td>\n      <td></td>\n    </tr>\n    <tr>\n      <th>22</th>\n      <td>etodolac cap 200 mg</td>\n      <td>TIER 1</td>\n      <td></td>\n    </tr>\n    <tr>\n      <th>23</th>\n      <td>etodolac cap 300 mg</td>\n      <td>TIER 1</td>\n      <td></td>\n    </tr>\n    <tr>\n      <th>24</th>\n      <td>etodolac tab 400 mg</td>\n      <td>TIER 1</td>\n      <td></td>\n    </tr>\n    <tr>\n      <th>25</th>\n      <td>etodolac tab 500 mg</td>\n      <td>TIER 1</td>\n      <td></td>\n    </tr>\n    <tr>\n      <th>26</th>\n      <td>etodolac tab er 24hr 400 mg (ETODOLAC</td>\n      <td>TIER 1</td>\n      <td></td>\n    </tr>\n    <tr>\n      <th>27</th>\n      <td>ER)</td>\n      <td></td>\n      <td></td>\n    </tr>\n    <tr>\n      <th>28</th>\n      <td>etodolac tab er 24hr 500 mg (ETODOLAC</td>\n      <td>TIER 1</td>\n      <td></td>\n    </tr>\n    <tr>\n      <th>29</th>\n      <td>ER)</td>\n      <td></td>\n      <td></td>\n    </tr>\n    <tr>\n      <th>30</th>\n      <td>etodolac tab er 24hr 600 mg (ETODOLAC</td>\n      <td>TIER 1</td>\n      <td></td>\n    </tr>\n    <tr>\n      <th>31</th>\n      <td>ER)</td>\n      <td></td>\n      <td></td>\n    </tr>\n    <tr>\n      <th>32</th>\n      <td>FELDENE (piroxicam) 10 MG CAP, 20 MG</td>\n      <td>TIER 3</td>\n      <td></td>\n    </tr>\n    <tr>\n      <th>33</th>\n      <td>CAP</td>\n      <td></td>\n      <td></td>\n    </tr>\n    <tr>\n      <th>34</th>\n      <td>FENOPROFEN CALCIUM 200 MG CAP</td>\n      <td>TIER 4</td>\n      <td>PA, QLC (8 caps/day)</td>\n    </tr>\n    <tr>\n      <th>35</th>\n      <td>FENOPROFEN CALCIUM 400 MG CAP</td>\n      <td>TIER 3</td>\n      <td>PA, QLC (8 caps/day)</td>\n    </tr>\n    <tr>\n      <th>36</th>\n      <td>fenoprofen calcium tab 600 mg</td>\n      <td>TIER 3</td>\n      <td>PA, QLC (4 tabs/day)</td>\n    </tr>\n    <tr>\n      <th>37</th>\n      <td>fenoprofen calcium tab 600 mg</td>\n      <td>TIER 3</td>\n      <td>PA, QLC (4 tabs/day)</td>\n    </tr>\n    <tr>\n      <th>38</th>\n      <td>(PROFENO)</td>\n      <td></td>\n      <td></td>\n    </tr>\n    <tr>\n      <th>39</th>\n      <td>FENORTHO (fenoprofen calcium) 200 MG</td>\n      <td>TIER 4</td>\n      <td>PA, QLC (8 caps/day)</td>\n    </tr>\n    <tr>\n      <th>40</th>\n      <td>CAP</td>\n      <td></td>\n      <td></td>\n    </tr>\n  </tbody>\n</table>\n</div>"
     },
     "metadata": {},
     "execution_count": 27
    }
   ],
   "source": [
    "tables[0].df"
   ]
  },
  {
   "cell_type": "code",
   "execution_count": 32,
   "metadata": {},
   "outputs": [],
   "source": [
    "tables = camelot_read_pdf(pdf_file, pages='12', flavor='stream', strip_text='\\n')"
   ]
  },
  {
   "cell_type": "code",
   "execution_count": 33,
   "metadata": {},
   "outputs": [
    {
     "output_type": "execute_result",
     "data": {
      "text/plain": [
       "                                          0       1                     2\n",
       "0                    PRESCRIPTION DRUG NAME    DRUG              COVERAGE\n",
       "1                                              TIER      REQUIREMENTS AND\n",
       "2                                                                  LIMITS\n",
       "3     diclofenac sodium tab delayed release  TIER 1                      \n",
       "4                                     50 mg                              \n",
       "5     diclofenac sodium tab delayed release  TIER 1                      \n",
       "6                                     75 mg                              \n",
       "7      diclofenac sodium tab er 24hr 100 mg  TIER 1                      \n",
       "8                    (DICLOFENAC SODIUM ER)                              \n",
       "9     diclofenac w/ misoprostol tab delayed  TIER 1                      \n",
       "10           release 50-0.2 mg (DICLOFENAC-                              \n",
       "11                             MISOPROSTOL)                              \n",
       "12    diclofenac w/ misoprostol tab delayed  TIER 1                      \n",
       "13           release 75-0.2 mg (DICLOFENAC-                              \n",
       "14                             MISOPROSTOL)                              \n",
       "15                    diflunisal tab 500 mg  TIER 1                      \n",
       "16  DISALCID (salsalate) 500 MG TAB, 750 MG  TIER 3                      \n",
       "17                                      TAB                              \n",
       "18   DUEXIS (ibuprofen-famotidine) 800-26.6  TIER 4  PA, QLC (3 tabs/day)\n",
       "19                                   MG TAB                              \n",
       "20         EC-NAPROSYN (naproxen) EC-375 MG  TIER 3                      \n",
       "21                 TAB DR, EC-500 MG TAB DR                              \n",
       "22                      etodolac cap 200 mg  TIER 1                      \n",
       "23                      etodolac cap 300 mg  TIER 1                      \n",
       "24                      etodolac tab 400 mg  TIER 1                      \n",
       "25                      etodolac tab 500 mg  TIER 1                      \n",
       "26    etodolac tab er 24hr 400 mg (ETODOLAC  TIER 1                      \n",
       "27                                      ER)                              \n",
       "28    etodolac tab er 24hr 500 mg (ETODOLAC  TIER 1                      \n",
       "29                                      ER)                              \n",
       "30    etodolac tab er 24hr 600 mg (ETODOLAC  TIER 1                      \n",
       "31                                      ER)                              \n",
       "32     FELDENE (piroxicam) 10 MG CAP, 20 MG  TIER 3                      \n",
       "33                                      CAP                              \n",
       "34            FENOPROFEN CALCIUM 200 MG CAP  TIER 4  PA, QLC (8 caps/day)\n",
       "35            FENOPROFEN CALCIUM 400 MG CAP  TIER 3  PA, QLC (8 caps/day)\n",
       "36            fenoprofen calcium tab 600 mg  TIER 3  PA, QLC (4 tabs/day)\n",
       "37            fenoprofen calcium tab 600 mg  TIER 3  PA, QLC (4 tabs/day)\n",
       "38                                (PROFENO)                              \n",
       "39     FENORTHO (fenoprofen calcium) 200 MG  TIER 4  PA, QLC (8 caps/day)\n",
       "40                                      CAP                              "
      ],
      "text/html": "<div>\n<style scoped>\n    .dataframe tbody tr th:only-of-type {\n        vertical-align: middle;\n    }\n\n    .dataframe tbody tr th {\n        vertical-align: top;\n    }\n\n    .dataframe thead th {\n        text-align: right;\n    }\n</style>\n<table border=\"1\" class=\"dataframe\">\n  <thead>\n    <tr style=\"text-align: right;\">\n      <th></th>\n      <th>0</th>\n      <th>1</th>\n      <th>2</th>\n    </tr>\n  </thead>\n  <tbody>\n    <tr>\n      <th>0</th>\n      <td>PRESCRIPTION DRUG NAME</td>\n      <td>DRUG</td>\n      <td>COVERAGE</td>\n    </tr>\n    <tr>\n      <th>1</th>\n      <td></td>\n      <td>TIER</td>\n      <td>REQUIREMENTS AND</td>\n    </tr>\n    <tr>\n      <th>2</th>\n      <td></td>\n      <td></td>\n      <td>LIMITS</td>\n    </tr>\n    <tr>\n      <th>3</th>\n      <td>diclofenac sodium tab delayed release</td>\n      <td>TIER 1</td>\n      <td></td>\n    </tr>\n    <tr>\n      <th>4</th>\n      <td>50 mg</td>\n      <td></td>\n      <td></td>\n    </tr>\n    <tr>\n      <th>5</th>\n      <td>diclofenac sodium tab delayed release</td>\n      <td>TIER 1</td>\n      <td></td>\n    </tr>\n    <tr>\n      <th>6</th>\n      <td>75 mg</td>\n      <td></td>\n      <td></td>\n    </tr>\n    <tr>\n      <th>7</th>\n      <td>diclofenac sodium tab er 24hr 100 mg</td>\n      <td>TIER 1</td>\n      <td></td>\n    </tr>\n    <tr>\n      <th>8</th>\n      <td>(DICLOFENAC SODIUM ER)</td>\n      <td></td>\n      <td></td>\n    </tr>\n    <tr>\n      <th>9</th>\n      <td>diclofenac w/ misoprostol tab delayed</td>\n      <td>TIER 1</td>\n      <td></td>\n    </tr>\n    <tr>\n      <th>10</th>\n      <td>release 50-0.2 mg (DICLOFENAC-</td>\n      <td></td>\n      <td></td>\n    </tr>\n    <tr>\n      <th>11</th>\n      <td>MISOPROSTOL)</td>\n      <td></td>\n      <td></td>\n    </tr>\n    <tr>\n      <th>12</th>\n      <td>diclofenac w/ misoprostol tab delayed</td>\n      <td>TIER 1</td>\n      <td></td>\n    </tr>\n    <tr>\n      <th>13</th>\n      <td>release 75-0.2 mg (DICLOFENAC-</td>\n      <td></td>\n      <td></td>\n    </tr>\n    <tr>\n      <th>14</th>\n      <td>MISOPROSTOL)</td>\n      <td></td>\n      <td></td>\n    </tr>\n    <tr>\n      <th>15</th>\n      <td>diflunisal tab 500 mg</td>\n      <td>TIER 1</td>\n      <td></td>\n    </tr>\n    <tr>\n      <th>16</th>\n      <td>DISALCID (salsalate) 500 MG TAB, 750 MG</td>\n      <td>TIER 3</td>\n      <td></td>\n    </tr>\n    <tr>\n      <th>17</th>\n      <td>TAB</td>\n      <td></td>\n      <td></td>\n    </tr>\n    <tr>\n      <th>18</th>\n      <td>DUEXIS (ibuprofen-famotidine) 800-26.6</td>\n      <td>TIER 4</td>\n      <td>PA, QLC (3 tabs/day)</td>\n    </tr>\n    <tr>\n      <th>19</th>\n      <td>MG TAB</td>\n      <td></td>\n      <td></td>\n    </tr>\n    <tr>\n      <th>20</th>\n      <td>EC-NAPROSYN (naproxen) EC-375 MG</td>\n      <td>TIER 3</td>\n      <td></td>\n    </tr>\n    <tr>\n      <th>21</th>\n      <td>TAB DR, EC-500 MG TAB DR</td>\n      <td></td>\n      <td></td>\n    </tr>\n    <tr>\n      <th>22</th>\n      <td>etodolac cap 200 mg</td>\n      <td>TIER 1</td>\n      <td></td>\n    </tr>\n    <tr>\n      <th>23</th>\n      <td>etodolac cap 300 mg</td>\n      <td>TIER 1</td>\n      <td></td>\n    </tr>\n    <tr>\n      <th>24</th>\n      <td>etodolac tab 400 mg</td>\n      <td>TIER 1</td>\n      <td></td>\n    </tr>\n    <tr>\n      <th>25</th>\n      <td>etodolac tab 500 mg</td>\n      <td>TIER 1</td>\n      <td></td>\n    </tr>\n    <tr>\n      <th>26</th>\n      <td>etodolac tab er 24hr 400 mg (ETODOLAC</td>\n      <td>TIER 1</td>\n      <td></td>\n    </tr>\n    <tr>\n      <th>27</th>\n      <td>ER)</td>\n      <td></td>\n      <td></td>\n    </tr>\n    <tr>\n      <th>28</th>\n      <td>etodolac tab er 24hr 500 mg (ETODOLAC</td>\n      <td>TIER 1</td>\n      <td></td>\n    </tr>\n    <tr>\n      <th>29</th>\n      <td>ER)</td>\n      <td></td>\n      <td></td>\n    </tr>\n    <tr>\n      <th>30</th>\n      <td>etodolac tab er 24hr 600 mg (ETODOLAC</td>\n      <td>TIER 1</td>\n      <td></td>\n    </tr>\n    <tr>\n      <th>31</th>\n      <td>ER)</td>\n      <td></td>\n      <td></td>\n    </tr>\n    <tr>\n      <th>32</th>\n      <td>FELDENE (piroxicam) 10 MG CAP, 20 MG</td>\n      <td>TIER 3</td>\n      <td></td>\n    </tr>\n    <tr>\n      <th>33</th>\n      <td>CAP</td>\n      <td></td>\n      <td></td>\n    </tr>\n    <tr>\n      <th>34</th>\n      <td>FENOPROFEN CALCIUM 200 MG CAP</td>\n      <td>TIER 4</td>\n      <td>PA, QLC (8 caps/day)</td>\n    </tr>\n    <tr>\n      <th>35</th>\n      <td>FENOPROFEN CALCIUM 400 MG CAP</td>\n      <td>TIER 3</td>\n      <td>PA, QLC (8 caps/day)</td>\n    </tr>\n    <tr>\n      <th>36</th>\n      <td>fenoprofen calcium tab 600 mg</td>\n      <td>TIER 3</td>\n      <td>PA, QLC (4 tabs/day)</td>\n    </tr>\n    <tr>\n      <th>37</th>\n      <td>fenoprofen calcium tab 600 mg</td>\n      <td>TIER 3</td>\n      <td>PA, QLC (4 tabs/day)</td>\n    </tr>\n    <tr>\n      <th>38</th>\n      <td>(PROFENO)</td>\n      <td></td>\n      <td></td>\n    </tr>\n    <tr>\n      <th>39</th>\n      <td>FENORTHO (fenoprofen calcium) 200 MG</td>\n      <td>TIER 4</td>\n      <td>PA, QLC (8 caps/day)</td>\n    </tr>\n    <tr>\n      <th>40</th>\n      <td>CAP</td>\n      <td></td>\n      <td></td>\n    </tr>\n  </tbody>\n</table>\n</div>"
     },
     "metadata": {},
     "execution_count": 33
    }
   ],
   "source": [
    "tables[0].df"
   ]
  },
  {
   "cell_type": "code",
   "execution_count": null,
   "metadata": {},
   "outputs": [],
   "source": []
  }
 ]
}