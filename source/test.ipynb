{
 "metadata": {
  "language_info": {
   "codemirror_mode": {
    "name": "ipython",
    "version": 3
   },
   "file_extension": ".py",
   "mimetype": "text/x-python",
   "name": "python",
   "nbconvert_exporter": "python",
   "pygments_lexer": "ipython3",
   "version": "3.8.5-final"
  },
  "orig_nbformat": 2,
  "kernelspec": {
   "name": "python38564bitanaconda3virtualenv7335095407f3422396fe048c4f6b269d",
   "display_name": "Python 3.8.5 64-bit ('anaconda3': virtualenv)",
   "language": "python"
  }
 },
 "nbformat": 4,
 "nbformat_minor": 2,
 "cells": [
  {
   "cell_type": "code",
   "execution_count": 1,
   "metadata": {},
   "outputs": [],
   "source": [
    "from camelot import read_pdf as camelot_read_pdf"
   ]
  },
  {
   "cell_type": "code",
   "execution_count": 4,
   "metadata": {},
   "outputs": [],
   "source": [
    "pdf_file = \"../data/sample.pdf\""
   ]
  },
  {
   "cell_type": "code",
   "execution_count": 8,
   "metadata": {},
   "outputs": [],
   "source": [
    "df_data = camelot_read_pdf(pdf_file, strip_text='\\n')"
   ]
  },
  {
   "cell_type": "code",
   "execution_count": 9,
   "metadata": {},
   "outputs": [
    {
     "output_type": "execute_result",
     "data": {
      "text/plain": [
       "                            0                          1  \\\n",
       "0                     Header1                    Header2   \n",
       "1                   The quick                  The quick   \n",
       "2             The quick borwn            The quick borwn   \n",
       "3   The quick borwn fox jumps  The quick borwn fox jumps   \n",
       "4   The quick borwn fox jumps  The quick borwn fox jumps   \n",
       "5                                                          \n",
       "6                   The quick                  The quick   \n",
       "7             The quick borwn            The quick borwn   \n",
       "8   The quick borwn fox jumps  The quick borwn fox jumps   \n",
       "9   The quick borwn fox jumps  The quick borwn fox jumps   \n",
       "10                  The quick                  The quick   \n",
       "11            The quick borwn            The quick borwn   \n",
       "12  The quick borwn fox jumps  The quick borwn fox jumps   \n",
       "13  The quick borwn fox jumps  The quick borwn fox jumps   \n",
       "14                  The quick                  The quick   \n",
       "15            The quick borwn            The quick borwn   \n",
       "16  The quick borwn fox jumps  The quick borwn fox jumps   \n",
       "17  The quick borwn fox jumps  The quick borwn fox jumps   \n",
       "18                  The quick                  The quick   \n",
       "19            The quick borwn            The quick borwn   \n",
       "20  The quick borwn fox jumps  The quick borwn fox jumps   \n",
       "21  The quick borwn fox jumps  The quick borwn fox jumps   \n",
       "22                                                         \n",
       "\n",
       "                            2                          3  \\\n",
       "0                     Header3                    Header4   \n",
       "1                   The quick                  The quick   \n",
       "2             The quick borwn            The quick borwn   \n",
       "3   The quick borwn fox jumps  The quick borwn fox jumps   \n",
       "4   The quick borwn fox jumps  The quick borwn fox jumps   \n",
       "5                                                          \n",
       "6                   The quick                  The quick   \n",
       "7             The quick borwn            The quick borwn   \n",
       "8   The quick borwn fox jumps  The quick borwn fox jumps   \n",
       "9   The quick borwn fox jumps  The quick borwn fox jumps   \n",
       "10                  The quick                  The quick   \n",
       "11            The quick borwn            The quick borwn   \n",
       "12  The quick borwn fox jumps  The quick borwn fox jumps   \n",
       "13  The quick borwn fox jumps  The quick borwn fox jumps   \n",
       "14                  The quick                  The quick   \n",
       "15            The quick borwn            The quick borwn   \n",
       "16  The quick borwn fox jumps  The quick borwn fox jumps   \n",
       "17  The quick borwn fox jumps  The quick borwn fox jumps   \n",
       "18                  The quick                  The quick   \n",
       "19            The quick borwn            The quick borwn   \n",
       "20  The quick borwn fox jumps  The quick borwn fox jumps   \n",
       "21  The quick borwn fox jumps  The quick borwn fox jumps   \n",
       "22                                                         \n",
       "\n",
       "                            4  \n",
       "0                     Header5  \n",
       "1                   The quick  \n",
       "2             The quick borwn  \n",
       "3   The quick borwn fox jumps  \n",
       "4   The quick borwn fox jumps  \n",
       "5                              \n",
       "6                   The quick  \n",
       "7             The quick borwn  \n",
       "8   The quick borwn fox jumps  \n",
       "9   The quick borwn fox jumps  \n",
       "10                  The quick  \n",
       "11            The quick borwn  \n",
       "12  The quick borwn fox jumps  \n",
       "13  The quick borwn fox jumps  \n",
       "14                  The quick  \n",
       "15            The quick borwn  \n",
       "16  The quick borwn fox jumps  \n",
       "17  The quick borwn fox jumps  \n",
       "18                  The quick  \n",
       "19            The quick borwn  \n",
       "20  The quick borwn fox jumps  \n",
       "21  The quick borwn fox jumps  \n",
       "22                             "
      ],
      "text/html": "<div>\n<style scoped>\n    .dataframe tbody tr th:only-of-type {\n        vertical-align: middle;\n    }\n\n    .dataframe tbody tr th {\n        vertical-align: top;\n    }\n\n    .dataframe thead th {\n        text-align: right;\n    }\n</style>\n<table border=\"1\" class=\"dataframe\">\n  <thead>\n    <tr style=\"text-align: right;\">\n      <th></th>\n      <th>0</th>\n      <th>1</th>\n      <th>2</th>\n      <th>3</th>\n      <th>4</th>\n    </tr>\n  </thead>\n  <tbody>\n    <tr>\n      <th>0</th>\n      <td>Header1</td>\n      <td>Header2</td>\n      <td>Header3</td>\n      <td>Header4</td>\n      <td>Header5</td>\n    </tr>\n    <tr>\n      <th>1</th>\n      <td>The quick</td>\n      <td>The quick</td>\n      <td>The quick</td>\n      <td>The quick</td>\n      <td>The quick</td>\n    </tr>\n    <tr>\n      <th>2</th>\n      <td>The quick borwn</td>\n      <td>The quick borwn</td>\n      <td>The quick borwn</td>\n      <td>The quick borwn</td>\n      <td>The quick borwn</td>\n    </tr>\n    <tr>\n      <th>3</th>\n      <td>The quick borwn fox jumps</td>\n      <td>The quick borwn fox jumps</td>\n      <td>The quick borwn fox jumps</td>\n      <td>The quick borwn fox jumps</td>\n      <td>The quick borwn fox jumps</td>\n    </tr>\n    <tr>\n      <th>4</th>\n      <td>The quick borwn fox jumps</td>\n      <td>The quick borwn fox jumps</td>\n      <td>The quick borwn fox jumps</td>\n      <td>The quick borwn fox jumps</td>\n      <td>The quick borwn fox jumps</td>\n    </tr>\n    <tr>\n      <th>5</th>\n      <td></td>\n      <td></td>\n      <td></td>\n      <td></td>\n      <td></td>\n    </tr>\n    <tr>\n      <th>6</th>\n      <td>The quick</td>\n      <td>The quick</td>\n      <td>The quick</td>\n      <td>The quick</td>\n      <td>The quick</td>\n    </tr>\n    <tr>\n      <th>7</th>\n      <td>The quick borwn</td>\n      <td>The quick borwn</td>\n      <td>The quick borwn</td>\n      <td>The quick borwn</td>\n      <td>The quick borwn</td>\n    </tr>\n    <tr>\n      <th>8</th>\n      <td>The quick borwn fox jumps</td>\n      <td>The quick borwn fox jumps</td>\n      <td>The quick borwn fox jumps</td>\n      <td>The quick borwn fox jumps</td>\n      <td>The quick borwn fox jumps</td>\n    </tr>\n    <tr>\n      <th>9</th>\n      <td>The quick borwn fox jumps</td>\n      <td>The quick borwn fox jumps</td>\n      <td>The quick borwn fox jumps</td>\n      <td>The quick borwn fox jumps</td>\n      <td>The quick borwn fox jumps</td>\n    </tr>\n    <tr>\n      <th>10</th>\n      <td>The quick</td>\n      <td>The quick</td>\n      <td>The quick</td>\n      <td>The quick</td>\n      <td>The quick</td>\n    </tr>\n    <tr>\n      <th>11</th>\n      <td>The quick borwn</td>\n      <td>The quick borwn</td>\n      <td>The quick borwn</td>\n      <td>The quick borwn</td>\n      <td>The quick borwn</td>\n    </tr>\n    <tr>\n      <th>12</th>\n      <td>The quick borwn fox jumps</td>\n      <td>The quick borwn fox jumps</td>\n      <td>The quick borwn fox jumps</td>\n      <td>The quick borwn fox jumps</td>\n      <td>The quick borwn fox jumps</td>\n    </tr>\n    <tr>\n      <th>13</th>\n      <td>The quick borwn fox jumps</td>\n      <td>The quick borwn fox jumps</td>\n      <td>The quick borwn fox jumps</td>\n      <td>The quick borwn fox jumps</td>\n      <td>The quick borwn fox jumps</td>\n    </tr>\n    <tr>\n      <th>14</th>\n      <td>The quick</td>\n      <td>The quick</td>\n      <td>The quick</td>\n      <td>The quick</td>\n      <td>The quick</td>\n    </tr>\n    <tr>\n      <th>15</th>\n      <td>The quick borwn</td>\n      <td>The quick borwn</td>\n      <td>The quick borwn</td>\n      <td>The quick borwn</td>\n      <td>The quick borwn</td>\n    </tr>\n    <tr>\n      <th>16</th>\n      <td>The quick borwn fox jumps</td>\n      <td>The quick borwn fox jumps</td>\n      <td>The quick borwn fox jumps</td>\n      <td>The quick borwn fox jumps</td>\n      <td>The quick borwn fox jumps</td>\n    </tr>\n    <tr>\n      <th>17</th>\n      <td>The quick borwn fox jumps</td>\n      <td>The quick borwn fox jumps</td>\n      <td>The quick borwn fox jumps</td>\n      <td>The quick borwn fox jumps</td>\n      <td>The quick borwn fox jumps</td>\n    </tr>\n    <tr>\n      <th>18</th>\n      <td>The quick</td>\n      <td>The quick</td>\n      <td>The quick</td>\n      <td>The quick</td>\n      <td>The quick</td>\n    </tr>\n    <tr>\n      <th>19</th>\n      <td>The quick borwn</td>\n      <td>The quick borwn</td>\n      <td>The quick borwn</td>\n      <td>The quick borwn</td>\n      <td>The quick borwn</td>\n    </tr>\n    <tr>\n      <th>20</th>\n      <td>The quick borwn fox jumps</td>\n      <td>The quick borwn fox jumps</td>\n      <td>The quick borwn fox jumps</td>\n      <td>The quick borwn fox jumps</td>\n      <td>The quick borwn fox jumps</td>\n    </tr>\n    <tr>\n      <th>21</th>\n      <td>The quick borwn fox jumps</td>\n      <td>The quick borwn fox jumps</td>\n      <td>The quick borwn fox jumps</td>\n      <td>The quick borwn fox jumps</td>\n      <td>The quick borwn fox jumps</td>\n    </tr>\n    <tr>\n      <th>22</th>\n      <td></td>\n      <td></td>\n      <td></td>\n      <td></td>\n      <td></td>\n    </tr>\n  </tbody>\n</table>\n</div>"
     },
     "metadata": {},
     "execution_count": 9
    }
   ],
   "source": [
    "df_data[0].df"
   ]
  },
  {
   "cell_type": "code",
   "execution_count": null,
   "metadata": {},
   "outputs": [],
   "source": []
  }
 ]
}